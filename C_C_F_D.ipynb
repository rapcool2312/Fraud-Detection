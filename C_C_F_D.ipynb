{
  "nbformat": 4,
  "nbformat_minor": 5,
  "metadata": {
    "kernelspec": {
      "display_name": "Python 3",
      "language": "python",
      "name": "python3"
    },
    "language_info": {
      "codemirror_mode": {
        "name": "ipython",
        "version": 3
      },
      "file_extension": ".py",
      "mimetype": "text/x-python",
      "name": "python",
      "nbconvert_exporter": "python",
      "pygments_lexer": "ipython3",
      "version": "3.8.8"
    },
    "colab": {
      "name": "C_C_F_D.ipynb",
      "provenance": [],
      "include_colab_link": true
    }
  },
  "cells": [
    {
      "cell_type": "markdown",
      "metadata": {
        "id": "view-in-github",
        "colab_type": "text"
      },
      "source": [
        "<a href=\"https://colab.research.google.com/github/rapcool2312/Fraud-Detection/blob/master/C_C_F_D.ipynb\" target=\"_parent\"><img src=\"https://colab.research.google.com/assets/colab-badge.svg\" alt=\"Open In Colab\"/></a>"
      ]
    },
    {
      "cell_type": "code",
      "metadata": {
        "id": "c9286d5b"
      },
      "source": [
        "# Importing the Dependencies\n",
        "import numpy as np\n",
        "import pandas as pd\n",
        "from sklearn.model_selection import train_test_split\n",
        "import matplotlib.pyplot as plt\n",
        "import seaborn as sns\n",
        "from sklearn.linear_model import LogisticRegression\n",
        "from sklearn.metrics import accuracy_score\n",
        "from sklearn.preprocessing import StandardScaler"
      ],
      "id": "c9286d5b",
      "execution_count": null,
      "outputs": []
    },
    {
      "cell_type": "code",
      "metadata": {
        "id": "f5742b05"
      },
      "source": [
        "# loading the dataset to a Pandas DataFrame \n",
        "data = pd.read_csv('creditcard.csv')"
      ],
      "id": "f5742b05",
      "execution_count": null,
      "outputs": []
    },
    {
      "cell_type": "markdown",
      "metadata": {
        "id": "07cd9944"
      },
      "source": [
        "# Data Pre-processing"
      ],
      "id": "07cd9944"
    },
    {
      "cell_type": "code",
      "metadata": {
        "id": "da63a1b0",
        "outputId": "36dbeed4-ce29-4e8c-b233-a49658e7f63f"
      },
      "source": [
        "# First 5 rows of dataset\n",
        "data.head()"
      ],
      "id": "da63a1b0",
      "execution_count": null,
      "outputs": [
        {
          "output_type": "execute_result",
          "data": {
            "text/html": [
              "<div>\n",
              "<style scoped>\n",
              "    .dataframe tbody tr th:only-of-type {\n",
              "        vertical-align: middle;\n",
              "    }\n",
              "\n",
              "    .dataframe tbody tr th {\n",
              "        vertical-align: top;\n",
              "    }\n",
              "\n",
              "    .dataframe thead th {\n",
              "        text-align: right;\n",
              "    }\n",
              "</style>\n",
              "<table border=\"1\" class=\"dataframe\">\n",
              "  <thead>\n",
              "    <tr style=\"text-align: right;\">\n",
              "      <th></th>\n",
              "      <th>Time</th>\n",
              "      <th>V1</th>\n",
              "      <th>V2</th>\n",
              "      <th>V3</th>\n",
              "      <th>V4</th>\n",
              "      <th>V5</th>\n",
              "      <th>V6</th>\n",
              "      <th>V7</th>\n",
              "      <th>V8</th>\n",
              "      <th>V9</th>\n",
              "      <th>...</th>\n",
              "      <th>V21</th>\n",
              "      <th>V22</th>\n",
              "      <th>V23</th>\n",
              "      <th>V24</th>\n",
              "      <th>V25</th>\n",
              "      <th>V26</th>\n",
              "      <th>V27</th>\n",
              "      <th>V28</th>\n",
              "      <th>Amount</th>\n",
              "      <th>Class</th>\n",
              "    </tr>\n",
              "  </thead>\n",
              "  <tbody>\n",
              "    <tr>\n",
              "      <th>0</th>\n",
              "      <td>0.0</td>\n",
              "      <td>-1.359807</td>\n",
              "      <td>-0.072781</td>\n",
              "      <td>2.536347</td>\n",
              "      <td>1.378155</td>\n",
              "      <td>-0.338321</td>\n",
              "      <td>0.462388</td>\n",
              "      <td>0.239599</td>\n",
              "      <td>0.098698</td>\n",
              "      <td>0.363787</td>\n",
              "      <td>...</td>\n",
              "      <td>-0.018307</td>\n",
              "      <td>0.277838</td>\n",
              "      <td>-0.110474</td>\n",
              "      <td>0.066928</td>\n",
              "      <td>0.128539</td>\n",
              "      <td>-0.189115</td>\n",
              "      <td>0.133558</td>\n",
              "      <td>-0.021053</td>\n",
              "      <td>149.62</td>\n",
              "      <td>0</td>\n",
              "    </tr>\n",
              "    <tr>\n",
              "      <th>1</th>\n",
              "      <td>0.0</td>\n",
              "      <td>1.191857</td>\n",
              "      <td>0.266151</td>\n",
              "      <td>0.166480</td>\n",
              "      <td>0.448154</td>\n",
              "      <td>0.060018</td>\n",
              "      <td>-0.082361</td>\n",
              "      <td>-0.078803</td>\n",
              "      <td>0.085102</td>\n",
              "      <td>-0.255425</td>\n",
              "      <td>...</td>\n",
              "      <td>-0.225775</td>\n",
              "      <td>-0.638672</td>\n",
              "      <td>0.101288</td>\n",
              "      <td>-0.339846</td>\n",
              "      <td>0.167170</td>\n",
              "      <td>0.125895</td>\n",
              "      <td>-0.008983</td>\n",
              "      <td>0.014724</td>\n",
              "      <td>2.69</td>\n",
              "      <td>0</td>\n",
              "    </tr>\n",
              "    <tr>\n",
              "      <th>2</th>\n",
              "      <td>1.0</td>\n",
              "      <td>-1.358354</td>\n",
              "      <td>-1.340163</td>\n",
              "      <td>1.773209</td>\n",
              "      <td>0.379780</td>\n",
              "      <td>-0.503198</td>\n",
              "      <td>1.800499</td>\n",
              "      <td>0.791461</td>\n",
              "      <td>0.247676</td>\n",
              "      <td>-1.514654</td>\n",
              "      <td>...</td>\n",
              "      <td>0.247998</td>\n",
              "      <td>0.771679</td>\n",
              "      <td>0.909412</td>\n",
              "      <td>-0.689281</td>\n",
              "      <td>-0.327642</td>\n",
              "      <td>-0.139097</td>\n",
              "      <td>-0.055353</td>\n",
              "      <td>-0.059752</td>\n",
              "      <td>378.66</td>\n",
              "      <td>0</td>\n",
              "    </tr>\n",
              "    <tr>\n",
              "      <th>3</th>\n",
              "      <td>1.0</td>\n",
              "      <td>-0.966272</td>\n",
              "      <td>-0.185226</td>\n",
              "      <td>1.792993</td>\n",
              "      <td>-0.863291</td>\n",
              "      <td>-0.010309</td>\n",
              "      <td>1.247203</td>\n",
              "      <td>0.237609</td>\n",
              "      <td>0.377436</td>\n",
              "      <td>-1.387024</td>\n",
              "      <td>...</td>\n",
              "      <td>-0.108300</td>\n",
              "      <td>0.005274</td>\n",
              "      <td>-0.190321</td>\n",
              "      <td>-1.175575</td>\n",
              "      <td>0.647376</td>\n",
              "      <td>-0.221929</td>\n",
              "      <td>0.062723</td>\n",
              "      <td>0.061458</td>\n",
              "      <td>123.50</td>\n",
              "      <td>0</td>\n",
              "    </tr>\n",
              "    <tr>\n",
              "      <th>4</th>\n",
              "      <td>2.0</td>\n",
              "      <td>-1.158233</td>\n",
              "      <td>0.877737</td>\n",
              "      <td>1.548718</td>\n",
              "      <td>0.403034</td>\n",
              "      <td>-0.407193</td>\n",
              "      <td>0.095921</td>\n",
              "      <td>0.592941</td>\n",
              "      <td>-0.270533</td>\n",
              "      <td>0.817739</td>\n",
              "      <td>...</td>\n",
              "      <td>-0.009431</td>\n",
              "      <td>0.798278</td>\n",
              "      <td>-0.137458</td>\n",
              "      <td>0.141267</td>\n",
              "      <td>-0.206010</td>\n",
              "      <td>0.502292</td>\n",
              "      <td>0.219422</td>\n",
              "      <td>0.215153</td>\n",
              "      <td>69.99</td>\n",
              "      <td>0</td>\n",
              "    </tr>\n",
              "  </tbody>\n",
              "</table>\n",
              "<p>5 rows × 31 columns</p>\n",
              "</div>"
            ],
            "text/plain": [
              "   Time        V1        V2        V3        V4        V5        V6        V7  \\\n",
              "0   0.0 -1.359807 -0.072781  2.536347  1.378155 -0.338321  0.462388  0.239599   \n",
              "1   0.0  1.191857  0.266151  0.166480  0.448154  0.060018 -0.082361 -0.078803   \n",
              "2   1.0 -1.358354 -1.340163  1.773209  0.379780 -0.503198  1.800499  0.791461   \n",
              "3   1.0 -0.966272 -0.185226  1.792993 -0.863291 -0.010309  1.247203  0.237609   \n",
              "4   2.0 -1.158233  0.877737  1.548718  0.403034 -0.407193  0.095921  0.592941   \n",
              "\n",
              "         V8        V9  ...       V21       V22       V23       V24       V25  \\\n",
              "0  0.098698  0.363787  ... -0.018307  0.277838 -0.110474  0.066928  0.128539   \n",
              "1  0.085102 -0.255425  ... -0.225775 -0.638672  0.101288 -0.339846  0.167170   \n",
              "2  0.247676 -1.514654  ...  0.247998  0.771679  0.909412 -0.689281 -0.327642   \n",
              "3  0.377436 -1.387024  ... -0.108300  0.005274 -0.190321 -1.175575  0.647376   \n",
              "4 -0.270533  0.817739  ... -0.009431  0.798278 -0.137458  0.141267 -0.206010   \n",
              "\n",
              "        V26       V27       V28  Amount  Class  \n",
              "0 -0.189115  0.133558 -0.021053  149.62      0  \n",
              "1  0.125895 -0.008983  0.014724    2.69      0  \n",
              "2 -0.139097 -0.055353 -0.059752  378.66      0  \n",
              "3 -0.221929  0.062723  0.061458  123.50      0  \n",
              "4  0.502292  0.219422  0.215153   69.99      0  \n",
              "\n",
              "[5 rows x 31 columns]"
            ]
          },
          "metadata": {
            "tags": []
          },
          "execution_count": 3
        }
      ]
    },
    {
      "cell_type": "code",
      "metadata": {
        "id": "8edd4a93",
        "outputId": "466e44c6-9567-4c95-d0e1-663dc4847603"
      },
      "source": [
        "# Last 5 rows of Dataset\n",
        "data.tail()"
      ],
      "id": "8edd4a93",
      "execution_count": null,
      "outputs": [
        {
          "output_type": "execute_result",
          "data": {
            "text/html": [
              "<div>\n",
              "<style scoped>\n",
              "    .dataframe tbody tr th:only-of-type {\n",
              "        vertical-align: middle;\n",
              "    }\n",
              "\n",
              "    .dataframe tbody tr th {\n",
              "        vertical-align: top;\n",
              "    }\n",
              "\n",
              "    .dataframe thead th {\n",
              "        text-align: right;\n",
              "    }\n",
              "</style>\n",
              "<table border=\"1\" class=\"dataframe\">\n",
              "  <thead>\n",
              "    <tr style=\"text-align: right;\">\n",
              "      <th></th>\n",
              "      <th>Time</th>\n",
              "      <th>V1</th>\n",
              "      <th>V2</th>\n",
              "      <th>V3</th>\n",
              "      <th>V4</th>\n",
              "      <th>V5</th>\n",
              "      <th>V6</th>\n",
              "      <th>V7</th>\n",
              "      <th>V8</th>\n",
              "      <th>V9</th>\n",
              "      <th>...</th>\n",
              "      <th>V21</th>\n",
              "      <th>V22</th>\n",
              "      <th>V23</th>\n",
              "      <th>V24</th>\n",
              "      <th>V25</th>\n",
              "      <th>V26</th>\n",
              "      <th>V27</th>\n",
              "      <th>V28</th>\n",
              "      <th>Amount</th>\n",
              "      <th>Class</th>\n",
              "    </tr>\n",
              "  </thead>\n",
              "  <tbody>\n",
              "    <tr>\n",
              "      <th>284802</th>\n",
              "      <td>172786.0</td>\n",
              "      <td>-11.881118</td>\n",
              "      <td>10.071785</td>\n",
              "      <td>-9.834783</td>\n",
              "      <td>-2.066656</td>\n",
              "      <td>-5.364473</td>\n",
              "      <td>-2.606837</td>\n",
              "      <td>-4.918215</td>\n",
              "      <td>7.305334</td>\n",
              "      <td>1.914428</td>\n",
              "      <td>...</td>\n",
              "      <td>0.213454</td>\n",
              "      <td>0.111864</td>\n",
              "      <td>1.014480</td>\n",
              "      <td>-0.509348</td>\n",
              "      <td>1.436807</td>\n",
              "      <td>0.250034</td>\n",
              "      <td>0.943651</td>\n",
              "      <td>0.823731</td>\n",
              "      <td>0.77</td>\n",
              "      <td>0</td>\n",
              "    </tr>\n",
              "    <tr>\n",
              "      <th>284803</th>\n",
              "      <td>172787.0</td>\n",
              "      <td>-0.732789</td>\n",
              "      <td>-0.055080</td>\n",
              "      <td>2.035030</td>\n",
              "      <td>-0.738589</td>\n",
              "      <td>0.868229</td>\n",
              "      <td>1.058415</td>\n",
              "      <td>0.024330</td>\n",
              "      <td>0.294869</td>\n",
              "      <td>0.584800</td>\n",
              "      <td>...</td>\n",
              "      <td>0.214205</td>\n",
              "      <td>0.924384</td>\n",
              "      <td>0.012463</td>\n",
              "      <td>-1.016226</td>\n",
              "      <td>-0.606624</td>\n",
              "      <td>-0.395255</td>\n",
              "      <td>0.068472</td>\n",
              "      <td>-0.053527</td>\n",
              "      <td>24.79</td>\n",
              "      <td>0</td>\n",
              "    </tr>\n",
              "    <tr>\n",
              "      <th>284804</th>\n",
              "      <td>172788.0</td>\n",
              "      <td>1.919565</td>\n",
              "      <td>-0.301254</td>\n",
              "      <td>-3.249640</td>\n",
              "      <td>-0.557828</td>\n",
              "      <td>2.630515</td>\n",
              "      <td>3.031260</td>\n",
              "      <td>-0.296827</td>\n",
              "      <td>0.708417</td>\n",
              "      <td>0.432454</td>\n",
              "      <td>...</td>\n",
              "      <td>0.232045</td>\n",
              "      <td>0.578229</td>\n",
              "      <td>-0.037501</td>\n",
              "      <td>0.640134</td>\n",
              "      <td>0.265745</td>\n",
              "      <td>-0.087371</td>\n",
              "      <td>0.004455</td>\n",
              "      <td>-0.026561</td>\n",
              "      <td>67.88</td>\n",
              "      <td>0</td>\n",
              "    </tr>\n",
              "    <tr>\n",
              "      <th>284805</th>\n",
              "      <td>172788.0</td>\n",
              "      <td>-0.240440</td>\n",
              "      <td>0.530483</td>\n",
              "      <td>0.702510</td>\n",
              "      <td>0.689799</td>\n",
              "      <td>-0.377961</td>\n",
              "      <td>0.623708</td>\n",
              "      <td>-0.686180</td>\n",
              "      <td>0.679145</td>\n",
              "      <td>0.392087</td>\n",
              "      <td>...</td>\n",
              "      <td>0.265245</td>\n",
              "      <td>0.800049</td>\n",
              "      <td>-0.163298</td>\n",
              "      <td>0.123205</td>\n",
              "      <td>-0.569159</td>\n",
              "      <td>0.546668</td>\n",
              "      <td>0.108821</td>\n",
              "      <td>0.104533</td>\n",
              "      <td>10.00</td>\n",
              "      <td>0</td>\n",
              "    </tr>\n",
              "    <tr>\n",
              "      <th>284806</th>\n",
              "      <td>172792.0</td>\n",
              "      <td>-0.533413</td>\n",
              "      <td>-0.189733</td>\n",
              "      <td>0.703337</td>\n",
              "      <td>-0.506271</td>\n",
              "      <td>-0.012546</td>\n",
              "      <td>-0.649617</td>\n",
              "      <td>1.577006</td>\n",
              "      <td>-0.414650</td>\n",
              "      <td>0.486180</td>\n",
              "      <td>...</td>\n",
              "      <td>0.261057</td>\n",
              "      <td>0.643078</td>\n",
              "      <td>0.376777</td>\n",
              "      <td>0.008797</td>\n",
              "      <td>-0.473649</td>\n",
              "      <td>-0.818267</td>\n",
              "      <td>-0.002415</td>\n",
              "      <td>0.013649</td>\n",
              "      <td>217.00</td>\n",
              "      <td>0</td>\n",
              "    </tr>\n",
              "  </tbody>\n",
              "</table>\n",
              "<p>5 rows × 31 columns</p>\n",
              "</div>"
            ],
            "text/plain": [
              "            Time         V1         V2        V3        V4        V5  \\\n",
              "284802  172786.0 -11.881118  10.071785 -9.834783 -2.066656 -5.364473   \n",
              "284803  172787.0  -0.732789  -0.055080  2.035030 -0.738589  0.868229   \n",
              "284804  172788.0   1.919565  -0.301254 -3.249640 -0.557828  2.630515   \n",
              "284805  172788.0  -0.240440   0.530483  0.702510  0.689799 -0.377961   \n",
              "284806  172792.0  -0.533413  -0.189733  0.703337 -0.506271 -0.012546   \n",
              "\n",
              "              V6        V7        V8        V9  ...       V21       V22  \\\n",
              "284802 -2.606837 -4.918215  7.305334  1.914428  ...  0.213454  0.111864   \n",
              "284803  1.058415  0.024330  0.294869  0.584800  ...  0.214205  0.924384   \n",
              "284804  3.031260 -0.296827  0.708417  0.432454  ...  0.232045  0.578229   \n",
              "284805  0.623708 -0.686180  0.679145  0.392087  ...  0.265245  0.800049   \n",
              "284806 -0.649617  1.577006 -0.414650  0.486180  ...  0.261057  0.643078   \n",
              "\n",
              "             V23       V24       V25       V26       V27       V28  Amount  \\\n",
              "284802  1.014480 -0.509348  1.436807  0.250034  0.943651  0.823731    0.77   \n",
              "284803  0.012463 -1.016226 -0.606624 -0.395255  0.068472 -0.053527   24.79   \n",
              "284804 -0.037501  0.640134  0.265745 -0.087371  0.004455 -0.026561   67.88   \n",
              "284805 -0.163298  0.123205 -0.569159  0.546668  0.108821  0.104533   10.00   \n",
              "284806  0.376777  0.008797 -0.473649 -0.818267 -0.002415  0.013649  217.00   \n",
              "\n",
              "        Class  \n",
              "284802      0  \n",
              "284803      0  \n",
              "284804      0  \n",
              "284805      0  \n",
              "284806      0  \n",
              "\n",
              "[5 rows x 31 columns]"
            ]
          },
          "metadata": {
            "tags": []
          },
          "execution_count": 4
        }
      ]
    },
    {
      "cell_type": "code",
      "metadata": {
        "id": "a60ab8be",
        "outputId": "3575e56a-5fea-4e8f-e151-349c272c8c41"
      },
      "source": [
        "# dataset information\n",
        "data.info()"
      ],
      "id": "a60ab8be",
      "execution_count": null,
      "outputs": [
        {
          "output_type": "stream",
          "text": [
            "<class 'pandas.core.frame.DataFrame'>\n",
            "RangeIndex: 284807 entries, 0 to 284806\n",
            "Data columns (total 31 columns):\n",
            " #   Column  Non-Null Count   Dtype  \n",
            "---  ------  --------------   -----  \n",
            " 0   Time    284807 non-null  float64\n",
            " 1   V1      284807 non-null  float64\n",
            " 2   V2      284807 non-null  float64\n",
            " 3   V3      284807 non-null  float64\n",
            " 4   V4      284807 non-null  float64\n",
            " 5   V5      284807 non-null  float64\n",
            " 6   V6      284807 non-null  float64\n",
            " 7   V7      284807 non-null  float64\n",
            " 8   V8      284807 non-null  float64\n",
            " 9   V9      284807 non-null  float64\n",
            " 10  V10     284807 non-null  float64\n",
            " 11  V11     284807 non-null  float64\n",
            " 12  V12     284807 non-null  float64\n",
            " 13  V13     284807 non-null  float64\n",
            " 14  V14     284807 non-null  float64\n",
            " 15  V15     284807 non-null  float64\n",
            " 16  V16     284807 non-null  float64\n",
            " 17  V17     284807 non-null  float64\n",
            " 18  V18     284807 non-null  float64\n",
            " 19  V19     284807 non-null  float64\n",
            " 20  V20     284807 non-null  float64\n",
            " 21  V21     284807 non-null  float64\n",
            " 22  V22     284807 non-null  float64\n",
            " 23  V23     284807 non-null  float64\n",
            " 24  V24     284807 non-null  float64\n",
            " 25  V25     284807 non-null  float64\n",
            " 26  V26     284807 non-null  float64\n",
            " 27  V27     284807 non-null  float64\n",
            " 28  V28     284807 non-null  float64\n",
            " 29  Amount  284807 non-null  float64\n",
            " 30  Class   284807 non-null  int64  \n",
            "dtypes: float64(30), int64(1)\n",
            "memory usage: 67.4 MB\n"
          ],
          "name": "stdout"
        }
      ]
    },
    {
      "cell_type": "code",
      "metadata": {
        "id": "bf5d84d4",
        "outputId": "a3b0001f-d471-403c-92a2-7742b18fd2b1"
      },
      "source": [
        "# checking the number of missing values in each column\n",
        "data.isnull().sum()"
      ],
      "id": "bf5d84d4",
      "execution_count": null,
      "outputs": [
        {
          "output_type": "execute_result",
          "data": {
            "text/plain": [
              "Time      0\n",
              "V1        0\n",
              "V2        0\n",
              "V3        0\n",
              "V4        0\n",
              "V5        0\n",
              "V6        0\n",
              "V7        0\n",
              "V8        0\n",
              "V9        0\n",
              "V10       0\n",
              "V11       0\n",
              "V12       0\n",
              "V13       0\n",
              "V14       0\n",
              "V15       0\n",
              "V16       0\n",
              "V17       0\n",
              "V18       0\n",
              "V19       0\n",
              "V20       0\n",
              "V21       0\n",
              "V22       0\n",
              "V23       0\n",
              "V24       0\n",
              "V25       0\n",
              "V26       0\n",
              "V27       0\n",
              "V28       0\n",
              "Amount    0\n",
              "Class     0\n",
              "dtype: int64"
            ]
          },
          "metadata": {
            "tags": []
          },
          "execution_count": 6
        }
      ]
    },
    {
      "cell_type": "code",
      "metadata": {
        "id": "c04601a0",
        "outputId": "322f96b6-e633-4b8c-a12e-c55a7d7cc344"
      },
      "source": [
        "# compare the values for both transactions\n",
        "# for checking is it good or bad sample\n",
        "\n",
        "data.groupby('Class').mean()"
      ],
      "id": "c04601a0",
      "execution_count": null,
      "outputs": [
        {
          "output_type": "execute_result",
          "data": {
            "text/html": [
              "<div>\n",
              "<style scoped>\n",
              "    .dataframe tbody tr th:only-of-type {\n",
              "        vertical-align: middle;\n",
              "    }\n",
              "\n",
              "    .dataframe tbody tr th {\n",
              "        vertical-align: top;\n",
              "    }\n",
              "\n",
              "    .dataframe thead th {\n",
              "        text-align: right;\n",
              "    }\n",
              "</style>\n",
              "<table border=\"1\" class=\"dataframe\">\n",
              "  <thead>\n",
              "    <tr style=\"text-align: right;\">\n",
              "      <th></th>\n",
              "      <th>Time</th>\n",
              "      <th>V1</th>\n",
              "      <th>V2</th>\n",
              "      <th>V3</th>\n",
              "      <th>V4</th>\n",
              "      <th>V5</th>\n",
              "      <th>V6</th>\n",
              "      <th>V7</th>\n",
              "      <th>V8</th>\n",
              "      <th>V9</th>\n",
              "      <th>...</th>\n",
              "      <th>V20</th>\n",
              "      <th>V21</th>\n",
              "      <th>V22</th>\n",
              "      <th>V23</th>\n",
              "      <th>V24</th>\n",
              "      <th>V25</th>\n",
              "      <th>V26</th>\n",
              "      <th>V27</th>\n",
              "      <th>V28</th>\n",
              "      <th>Amount</th>\n",
              "    </tr>\n",
              "    <tr>\n",
              "      <th>Class</th>\n",
              "      <th></th>\n",
              "      <th></th>\n",
              "      <th></th>\n",
              "      <th></th>\n",
              "      <th></th>\n",
              "      <th></th>\n",
              "      <th></th>\n",
              "      <th></th>\n",
              "      <th></th>\n",
              "      <th></th>\n",
              "      <th></th>\n",
              "      <th></th>\n",
              "      <th></th>\n",
              "      <th></th>\n",
              "      <th></th>\n",
              "      <th></th>\n",
              "      <th></th>\n",
              "      <th></th>\n",
              "      <th></th>\n",
              "      <th></th>\n",
              "      <th></th>\n",
              "    </tr>\n",
              "  </thead>\n",
              "  <tbody>\n",
              "    <tr>\n",
              "      <th>0</th>\n",
              "      <td>94838.202258</td>\n",
              "      <td>0.008258</td>\n",
              "      <td>-0.006271</td>\n",
              "      <td>0.012171</td>\n",
              "      <td>-0.007860</td>\n",
              "      <td>0.005453</td>\n",
              "      <td>0.002419</td>\n",
              "      <td>0.009637</td>\n",
              "      <td>-0.000987</td>\n",
              "      <td>0.004467</td>\n",
              "      <td>...</td>\n",
              "      <td>-0.000644</td>\n",
              "      <td>-0.001235</td>\n",
              "      <td>-0.000024</td>\n",
              "      <td>0.000070</td>\n",
              "      <td>0.000182</td>\n",
              "      <td>-0.000072</td>\n",
              "      <td>-0.000089</td>\n",
              "      <td>-0.000295</td>\n",
              "      <td>-0.000131</td>\n",
              "      <td>88.291022</td>\n",
              "    </tr>\n",
              "    <tr>\n",
              "      <th>1</th>\n",
              "      <td>80746.806911</td>\n",
              "      <td>-4.771948</td>\n",
              "      <td>3.623778</td>\n",
              "      <td>-7.033281</td>\n",
              "      <td>4.542029</td>\n",
              "      <td>-3.151225</td>\n",
              "      <td>-1.397737</td>\n",
              "      <td>-5.568731</td>\n",
              "      <td>0.570636</td>\n",
              "      <td>-2.581123</td>\n",
              "      <td>...</td>\n",
              "      <td>0.372319</td>\n",
              "      <td>0.713588</td>\n",
              "      <td>0.014049</td>\n",
              "      <td>-0.040308</td>\n",
              "      <td>-0.105130</td>\n",
              "      <td>0.041449</td>\n",
              "      <td>0.051648</td>\n",
              "      <td>0.170575</td>\n",
              "      <td>0.075667</td>\n",
              "      <td>122.211321</td>\n",
              "    </tr>\n",
              "  </tbody>\n",
              "</table>\n",
              "<p>2 rows × 30 columns</p>\n",
              "</div>"
            ],
            "text/plain": [
              "               Time        V1        V2        V3        V4        V5  \\\n",
              "Class                                                                   \n",
              "0      94838.202258  0.008258 -0.006271  0.012171 -0.007860  0.005453   \n",
              "1      80746.806911 -4.771948  3.623778 -7.033281  4.542029 -3.151225   \n",
              "\n",
              "             V6        V7        V8        V9  ...       V20       V21  \\\n",
              "Class                                          ...                       \n",
              "0      0.002419  0.009637 -0.000987  0.004467  ... -0.000644 -0.001235   \n",
              "1     -1.397737 -5.568731  0.570636 -2.581123  ...  0.372319  0.713588   \n",
              "\n",
              "            V22       V23       V24       V25       V26       V27       V28  \\\n",
              "Class                                                                         \n",
              "0     -0.000024  0.000070  0.000182 -0.000072 -0.000089 -0.000295 -0.000131   \n",
              "1      0.014049 -0.040308 -0.105130  0.041449  0.051648  0.170575  0.075667   \n",
              "\n",
              "           Amount  \n",
              "Class              \n",
              "0       88.291022  \n",
              "1      122.211321  \n",
              "\n",
              "[2 rows x 30 columns]"
            ]
          },
          "metadata": {
            "tags": []
          },
          "execution_count": 7
        }
      ]
    },
    {
      "cell_type": "code",
      "metadata": {
        "id": "a862cb66",
        "outputId": "d157ae1d-f20f-49f1-af9a-f1c214ef5779"
      },
      "source": [
        "# Distribution of the two classes\n",
        "data['Class'].value_counts()"
      ],
      "id": "a862cb66",
      "execution_count": null,
      "outputs": [
        {
          "output_type": "execute_result",
          "data": {
            "text/plain": [
              "0    284315\n",
              "1       492\n",
              "Name: Class, dtype: int64"
            ]
          },
          "metadata": {
            "tags": []
          },
          "execution_count": 8
        }
      ]
    },
    {
      "cell_type": "code",
      "metadata": {
        "id": "582a478e"
      },
      "source": [
        "# This is Highly Imbalanced Dataset\n",
        "# 0 --> Legit Transaction\n",
        "# 1 --> Fraud Transaction\n",
        "\n",
        "# seperating the legit and fradulent transactions\n",
        "\n",
        "legit = data[data.Class == 0]\n",
        "fraud = data[data.Class == 1]"
      ],
      "id": "582a478e",
      "execution_count": null,
      "outputs": []
    },
    {
      "cell_type": "code",
      "metadata": {
        "id": "650d58b7",
        "outputId": "d6e81ff9-594d-41d3-b3b1-4a6173e18efa"
      },
      "source": [
        "print(legit.shape)\n",
        "print(fraud.shape)"
      ],
      "id": "650d58b7",
      "execution_count": null,
      "outputs": [
        {
          "output_type": "stream",
          "text": [
            "(284315, 31)\n",
            "(492, 31)\n"
          ],
          "name": "stdout"
        }
      ]
    },
    {
      "cell_type": "markdown",
      "metadata": {
        "id": "0bcc2c15"
      },
      "source": [
        "# Under- Sampling"
      ],
      "id": "0bcc2c15"
    },
    {
      "cell_type": "code",
      "metadata": {
        "id": "b281e896"
      },
      "source": [
        "#Build a sample dataset containing similar distribution of Legit & fraud Transaction\n",
        "#Number of Fraud Transaction = 492\n",
        "\n",
        "legit_sample = legit.sample(n=492)"
      ],
      "id": "b281e896",
      "execution_count": null,
      "outputs": []
    },
    {
      "cell_type": "markdown",
      "metadata": {
        "id": "7914bbc7"
      },
      "source": [
        "print(legit_sample.shape)"
      ],
      "id": "7914bbc7"
    },
    {
      "cell_type": "code",
      "metadata": {
        "id": "b0aaffa9"
      },
      "source": [
        "# Concatenate the Two Dtaframes\n",
        "new_dataset = pd.concat([legit_sample, fraud], axis = 0)"
      ],
      "id": "b0aaffa9",
      "execution_count": null,
      "outputs": []
    },
    {
      "cell_type": "code",
      "metadata": {
        "id": "bf47b4d0",
        "outputId": "7374d2e7-4d88-4e36-8235-e4ff5a69fe9c"
      },
      "source": [
        "new_dataset.head()"
      ],
      "id": "bf47b4d0",
      "execution_count": null,
      "outputs": [
        {
          "output_type": "execute_result",
          "data": {
            "text/html": [
              "<div>\n",
              "<style scoped>\n",
              "    .dataframe tbody tr th:only-of-type {\n",
              "        vertical-align: middle;\n",
              "    }\n",
              "\n",
              "    .dataframe tbody tr th {\n",
              "        vertical-align: top;\n",
              "    }\n",
              "\n",
              "    .dataframe thead th {\n",
              "        text-align: right;\n",
              "    }\n",
              "</style>\n",
              "<table border=\"1\" class=\"dataframe\">\n",
              "  <thead>\n",
              "    <tr style=\"text-align: right;\">\n",
              "      <th></th>\n",
              "      <th>Time</th>\n",
              "      <th>V1</th>\n",
              "      <th>V2</th>\n",
              "      <th>V3</th>\n",
              "      <th>V4</th>\n",
              "      <th>V5</th>\n",
              "      <th>V6</th>\n",
              "      <th>V7</th>\n",
              "      <th>V8</th>\n",
              "      <th>V9</th>\n",
              "      <th>...</th>\n",
              "      <th>V21</th>\n",
              "      <th>V22</th>\n",
              "      <th>V23</th>\n",
              "      <th>V24</th>\n",
              "      <th>V25</th>\n",
              "      <th>V26</th>\n",
              "      <th>V27</th>\n",
              "      <th>V28</th>\n",
              "      <th>Amount</th>\n",
              "      <th>Class</th>\n",
              "    </tr>\n",
              "  </thead>\n",
              "  <tbody>\n",
              "    <tr>\n",
              "      <th>42862</th>\n",
              "      <td>41277.0</td>\n",
              "      <td>-1.074106</td>\n",
              "      <td>1.096363</td>\n",
              "      <td>2.079393</td>\n",
              "      <td>1.920161</td>\n",
              "      <td>0.531325</td>\n",
              "      <td>-0.606831</td>\n",
              "      <td>0.717005</td>\n",
              "      <td>0.079836</td>\n",
              "      <td>-0.913854</td>\n",
              "      <td>...</td>\n",
              "      <td>-0.039540</td>\n",
              "      <td>-0.129027</td>\n",
              "      <td>-0.288220</td>\n",
              "      <td>0.612561</td>\n",
              "      <td>0.604701</td>\n",
              "      <td>-0.026450</td>\n",
              "      <td>0.023577</td>\n",
              "      <td>0.095869</td>\n",
              "      <td>18.28</td>\n",
              "      <td>0</td>\n",
              "    </tr>\n",
              "    <tr>\n",
              "      <th>250998</th>\n",
              "      <td>155161.0</td>\n",
              "      <td>1.994310</td>\n",
              "      <td>-0.442934</td>\n",
              "      <td>-0.252742</td>\n",
              "      <td>0.472089</td>\n",
              "      <td>-0.788334</td>\n",
              "      <td>-0.519766</td>\n",
              "      <td>-0.640356</td>\n",
              "      <td>-0.061984</td>\n",
              "      <td>1.248797</td>\n",
              "      <td>...</td>\n",
              "      <td>0.154971</td>\n",
              "      <td>0.678710</td>\n",
              "      <td>0.142816</td>\n",
              "      <td>-0.046966</td>\n",
              "      <td>-0.256579</td>\n",
              "      <td>0.574817</td>\n",
              "      <td>-0.018438</td>\n",
              "      <td>-0.047456</td>\n",
              "      <td>11.50</td>\n",
              "      <td>0</td>\n",
              "    </tr>\n",
              "    <tr>\n",
              "      <th>51951</th>\n",
              "      <td>45207.0</td>\n",
              "      <td>1.312591</td>\n",
              "      <td>0.077230</td>\n",
              "      <td>-1.292059</td>\n",
              "      <td>-0.483715</td>\n",
              "      <td>2.139937</td>\n",
              "      <td>3.181316</td>\n",
              "      <td>-0.505961</td>\n",
              "      <td>0.805039</td>\n",
              "      <td>-0.073990</td>\n",
              "      <td>...</td>\n",
              "      <td>-0.343094</td>\n",
              "      <td>-1.148139</td>\n",
              "      <td>0.095887</td>\n",
              "      <td>0.946086</td>\n",
              "      <td>0.369966</td>\n",
              "      <td>0.110699</td>\n",
              "      <td>-0.021706</td>\n",
              "      <td>0.023518</td>\n",
              "      <td>1.29</td>\n",
              "      <td>0</td>\n",
              "    </tr>\n",
              "    <tr>\n",
              "      <th>75068</th>\n",
              "      <td>55884.0</td>\n",
              "      <td>1.352265</td>\n",
              "      <td>-1.117900</td>\n",
              "      <td>-0.269259</td>\n",
              "      <td>-1.776264</td>\n",
              "      <td>0.731357</td>\n",
              "      <td>3.745376</td>\n",
              "      <td>-1.861159</td>\n",
              "      <td>1.026008</td>\n",
              "      <td>-0.321680</td>\n",
              "      <td>...</td>\n",
              "      <td>0.400362</td>\n",
              "      <td>0.907622</td>\n",
              "      <td>-0.143413</td>\n",
              "      <td>1.050973</td>\n",
              "      <td>0.466534</td>\n",
              "      <td>-0.030606</td>\n",
              "      <td>0.055346</td>\n",
              "      <td>0.031600</td>\n",
              "      <td>40.00</td>\n",
              "      <td>0</td>\n",
              "    </tr>\n",
              "    <tr>\n",
              "      <th>221536</th>\n",
              "      <td>142601.0</td>\n",
              "      <td>2.037714</td>\n",
              "      <td>0.287805</td>\n",
              "      <td>-1.724395</td>\n",
              "      <td>0.536510</td>\n",
              "      <td>0.298728</td>\n",
              "      <td>-1.430321</td>\n",
              "      <td>0.346533</td>\n",
              "      <td>-0.434105</td>\n",
              "      <td>0.420961</td>\n",
              "      <td>...</td>\n",
              "      <td>0.211597</td>\n",
              "      <td>0.835479</td>\n",
              "      <td>-0.033215</td>\n",
              "      <td>-0.055894</td>\n",
              "      <td>0.272865</td>\n",
              "      <td>-0.102501</td>\n",
              "      <td>0.008093</td>\n",
              "      <td>-0.026110</td>\n",
              "      <td>8.99</td>\n",
              "      <td>0</td>\n",
              "    </tr>\n",
              "  </tbody>\n",
              "</table>\n",
              "<p>5 rows × 31 columns</p>\n",
              "</div>"
            ],
            "text/plain": [
              "            Time        V1        V2        V3        V4        V5        V6  \\\n",
              "42862    41277.0 -1.074106  1.096363  2.079393  1.920161  0.531325 -0.606831   \n",
              "250998  155161.0  1.994310 -0.442934 -0.252742  0.472089 -0.788334 -0.519766   \n",
              "51951    45207.0  1.312591  0.077230 -1.292059 -0.483715  2.139937  3.181316   \n",
              "75068    55884.0  1.352265 -1.117900 -0.269259 -1.776264  0.731357  3.745376   \n",
              "221536  142601.0  2.037714  0.287805 -1.724395  0.536510  0.298728 -1.430321   \n",
              "\n",
              "              V7        V8        V9  ...       V21       V22       V23  \\\n",
              "42862   0.717005  0.079836 -0.913854  ... -0.039540 -0.129027 -0.288220   \n",
              "250998 -0.640356 -0.061984  1.248797  ...  0.154971  0.678710  0.142816   \n",
              "51951  -0.505961  0.805039 -0.073990  ... -0.343094 -1.148139  0.095887   \n",
              "75068  -1.861159  1.026008 -0.321680  ...  0.400362  0.907622 -0.143413   \n",
              "221536  0.346533 -0.434105  0.420961  ...  0.211597  0.835479 -0.033215   \n",
              "\n",
              "             V24       V25       V26       V27       V28  Amount  Class  \n",
              "42862   0.612561  0.604701 -0.026450  0.023577  0.095869   18.28      0  \n",
              "250998 -0.046966 -0.256579  0.574817 -0.018438 -0.047456   11.50      0  \n",
              "51951   0.946086  0.369966  0.110699 -0.021706  0.023518    1.29      0  \n",
              "75068   1.050973  0.466534 -0.030606  0.055346  0.031600   40.00      0  \n",
              "221536 -0.055894  0.272865 -0.102501  0.008093 -0.026110    8.99      0  \n",
              "\n",
              "[5 rows x 31 columns]"
            ]
          },
          "metadata": {
            "tags": []
          },
          "execution_count": 13
        }
      ]
    },
    {
      "cell_type": "code",
      "metadata": {
        "id": "9a693bf5",
        "outputId": "9d1b8808-dd00-416e-c6ba-39ed99b03c1f"
      },
      "source": [
        "new_dataset.tail()"
      ],
      "id": "9a693bf5",
      "execution_count": null,
      "outputs": [
        {
          "output_type": "execute_result",
          "data": {
            "text/html": [
              "<div>\n",
              "<style scoped>\n",
              "    .dataframe tbody tr th:only-of-type {\n",
              "        vertical-align: middle;\n",
              "    }\n",
              "\n",
              "    .dataframe tbody tr th {\n",
              "        vertical-align: top;\n",
              "    }\n",
              "\n",
              "    .dataframe thead th {\n",
              "        text-align: right;\n",
              "    }\n",
              "</style>\n",
              "<table border=\"1\" class=\"dataframe\">\n",
              "  <thead>\n",
              "    <tr style=\"text-align: right;\">\n",
              "      <th></th>\n",
              "      <th>Time</th>\n",
              "      <th>V1</th>\n",
              "      <th>V2</th>\n",
              "      <th>V3</th>\n",
              "      <th>V4</th>\n",
              "      <th>V5</th>\n",
              "      <th>V6</th>\n",
              "      <th>V7</th>\n",
              "      <th>V8</th>\n",
              "      <th>V9</th>\n",
              "      <th>...</th>\n",
              "      <th>V21</th>\n",
              "      <th>V22</th>\n",
              "      <th>V23</th>\n",
              "      <th>V24</th>\n",
              "      <th>V25</th>\n",
              "      <th>V26</th>\n",
              "      <th>V27</th>\n",
              "      <th>V28</th>\n",
              "      <th>Amount</th>\n",
              "      <th>Class</th>\n",
              "    </tr>\n",
              "  </thead>\n",
              "  <tbody>\n",
              "    <tr>\n",
              "      <th>279863</th>\n",
              "      <td>169142.0</td>\n",
              "      <td>-1.927883</td>\n",
              "      <td>1.125653</td>\n",
              "      <td>-4.518331</td>\n",
              "      <td>1.749293</td>\n",
              "      <td>-1.566487</td>\n",
              "      <td>-2.010494</td>\n",
              "      <td>-0.882850</td>\n",
              "      <td>0.697211</td>\n",
              "      <td>-2.064945</td>\n",
              "      <td>...</td>\n",
              "      <td>0.778584</td>\n",
              "      <td>-0.319189</td>\n",
              "      <td>0.639419</td>\n",
              "      <td>-0.294885</td>\n",
              "      <td>0.537503</td>\n",
              "      <td>0.788395</td>\n",
              "      <td>0.292680</td>\n",
              "      <td>0.147968</td>\n",
              "      <td>390.00</td>\n",
              "      <td>1</td>\n",
              "    </tr>\n",
              "    <tr>\n",
              "      <th>280143</th>\n",
              "      <td>169347.0</td>\n",
              "      <td>1.378559</td>\n",
              "      <td>1.289381</td>\n",
              "      <td>-5.004247</td>\n",
              "      <td>1.411850</td>\n",
              "      <td>0.442581</td>\n",
              "      <td>-1.326536</td>\n",
              "      <td>-1.413170</td>\n",
              "      <td>0.248525</td>\n",
              "      <td>-1.127396</td>\n",
              "      <td>...</td>\n",
              "      <td>0.370612</td>\n",
              "      <td>0.028234</td>\n",
              "      <td>-0.145640</td>\n",
              "      <td>-0.081049</td>\n",
              "      <td>0.521875</td>\n",
              "      <td>0.739467</td>\n",
              "      <td>0.389152</td>\n",
              "      <td>0.186637</td>\n",
              "      <td>0.76</td>\n",
              "      <td>1</td>\n",
              "    </tr>\n",
              "    <tr>\n",
              "      <th>280149</th>\n",
              "      <td>169351.0</td>\n",
              "      <td>-0.676143</td>\n",
              "      <td>1.126366</td>\n",
              "      <td>-2.213700</td>\n",
              "      <td>0.468308</td>\n",
              "      <td>-1.120541</td>\n",
              "      <td>-0.003346</td>\n",
              "      <td>-2.234739</td>\n",
              "      <td>1.210158</td>\n",
              "      <td>-0.652250</td>\n",
              "      <td>...</td>\n",
              "      <td>0.751826</td>\n",
              "      <td>0.834108</td>\n",
              "      <td>0.190944</td>\n",
              "      <td>0.032070</td>\n",
              "      <td>-0.739695</td>\n",
              "      <td>0.471111</td>\n",
              "      <td>0.385107</td>\n",
              "      <td>0.194361</td>\n",
              "      <td>77.89</td>\n",
              "      <td>1</td>\n",
              "    </tr>\n",
              "    <tr>\n",
              "      <th>281144</th>\n",
              "      <td>169966.0</td>\n",
              "      <td>-3.113832</td>\n",
              "      <td>0.585864</td>\n",
              "      <td>-5.399730</td>\n",
              "      <td>1.817092</td>\n",
              "      <td>-0.840618</td>\n",
              "      <td>-2.943548</td>\n",
              "      <td>-2.208002</td>\n",
              "      <td>1.058733</td>\n",
              "      <td>-1.632333</td>\n",
              "      <td>...</td>\n",
              "      <td>0.583276</td>\n",
              "      <td>-0.269209</td>\n",
              "      <td>-0.456108</td>\n",
              "      <td>-0.183659</td>\n",
              "      <td>-0.328168</td>\n",
              "      <td>0.606116</td>\n",
              "      <td>0.884876</td>\n",
              "      <td>-0.253700</td>\n",
              "      <td>245.00</td>\n",
              "      <td>1</td>\n",
              "    </tr>\n",
              "    <tr>\n",
              "      <th>281674</th>\n",
              "      <td>170348.0</td>\n",
              "      <td>1.991976</td>\n",
              "      <td>0.158476</td>\n",
              "      <td>-2.583441</td>\n",
              "      <td>0.408670</td>\n",
              "      <td>1.151147</td>\n",
              "      <td>-0.096695</td>\n",
              "      <td>0.223050</td>\n",
              "      <td>-0.068384</td>\n",
              "      <td>0.577829</td>\n",
              "      <td>...</td>\n",
              "      <td>-0.164350</td>\n",
              "      <td>-0.295135</td>\n",
              "      <td>-0.072173</td>\n",
              "      <td>-0.450261</td>\n",
              "      <td>0.313267</td>\n",
              "      <td>-0.289617</td>\n",
              "      <td>0.002988</td>\n",
              "      <td>-0.015309</td>\n",
              "      <td>42.53</td>\n",
              "      <td>1</td>\n",
              "    </tr>\n",
              "  </tbody>\n",
              "</table>\n",
              "<p>5 rows × 31 columns</p>\n",
              "</div>"
            ],
            "text/plain": [
              "            Time        V1        V2        V3        V4        V5        V6  \\\n",
              "279863  169142.0 -1.927883  1.125653 -4.518331  1.749293 -1.566487 -2.010494   \n",
              "280143  169347.0  1.378559  1.289381 -5.004247  1.411850  0.442581 -1.326536   \n",
              "280149  169351.0 -0.676143  1.126366 -2.213700  0.468308 -1.120541 -0.003346   \n",
              "281144  169966.0 -3.113832  0.585864 -5.399730  1.817092 -0.840618 -2.943548   \n",
              "281674  170348.0  1.991976  0.158476 -2.583441  0.408670  1.151147 -0.096695   \n",
              "\n",
              "              V7        V8        V9  ...       V21       V22       V23  \\\n",
              "279863 -0.882850  0.697211 -2.064945  ...  0.778584 -0.319189  0.639419   \n",
              "280143 -1.413170  0.248525 -1.127396  ...  0.370612  0.028234 -0.145640   \n",
              "280149 -2.234739  1.210158 -0.652250  ...  0.751826  0.834108  0.190944   \n",
              "281144 -2.208002  1.058733 -1.632333  ...  0.583276 -0.269209 -0.456108   \n",
              "281674  0.223050 -0.068384  0.577829  ... -0.164350 -0.295135 -0.072173   \n",
              "\n",
              "             V24       V25       V26       V27       V28  Amount  Class  \n",
              "279863 -0.294885  0.537503  0.788395  0.292680  0.147968  390.00      1  \n",
              "280143 -0.081049  0.521875  0.739467  0.389152  0.186637    0.76      1  \n",
              "280149  0.032070 -0.739695  0.471111  0.385107  0.194361   77.89      1  \n",
              "281144 -0.183659 -0.328168  0.606116  0.884876 -0.253700  245.00      1  \n",
              "281674 -0.450261  0.313267 -0.289617  0.002988 -0.015309   42.53      1  \n",
              "\n",
              "[5 rows x 31 columns]"
            ]
          },
          "metadata": {
            "tags": []
          },
          "execution_count": 14
        }
      ]
    },
    {
      "cell_type": "code",
      "metadata": {
        "id": "2bcfd171",
        "outputId": "e35c0d11-7fa8-4168-b407-8b1a299d21e0"
      },
      "source": [
        "# distribution of legit transaction & fraudalent transaction\n",
        "new_dataset['Class'].value_counts()"
      ],
      "id": "2bcfd171",
      "execution_count": null,
      "outputs": [
        {
          "output_type": "execute_result",
          "data": {
            "text/plain": [
              "0    492\n",
              "1    492\n",
              "Name: Class, dtype: int64"
            ]
          },
          "metadata": {
            "tags": []
          },
          "execution_count": 15
        }
      ]
    },
    {
      "cell_type": "code",
      "metadata": {
        "id": "d689fd9c",
        "outputId": "c5df1aef-3ff4-4326-ff06-d3e32c05d137"
      },
      "source": [
        "new_dataset.info()"
      ],
      "id": "d689fd9c",
      "execution_count": null,
      "outputs": [
        {
          "output_type": "stream",
          "text": [
            "<class 'pandas.core.frame.DataFrame'>\n",
            "Int64Index: 984 entries, 42862 to 281674\n",
            "Data columns (total 31 columns):\n",
            " #   Column  Non-Null Count  Dtype  \n",
            "---  ------  --------------  -----  \n",
            " 0   Time    984 non-null    float64\n",
            " 1   V1      984 non-null    float64\n",
            " 2   V2      984 non-null    float64\n",
            " 3   V3      984 non-null    float64\n",
            " 4   V4      984 non-null    float64\n",
            " 5   V5      984 non-null    float64\n",
            " 6   V6      984 non-null    float64\n",
            " 7   V7      984 non-null    float64\n",
            " 8   V8      984 non-null    float64\n",
            " 9   V9      984 non-null    float64\n",
            " 10  V10     984 non-null    float64\n",
            " 11  V11     984 non-null    float64\n",
            " 12  V12     984 non-null    float64\n",
            " 13  V13     984 non-null    float64\n",
            " 14  V14     984 non-null    float64\n",
            " 15  V15     984 non-null    float64\n",
            " 16  V16     984 non-null    float64\n",
            " 17  V17     984 non-null    float64\n",
            " 18  V18     984 non-null    float64\n",
            " 19  V19     984 non-null    float64\n",
            " 20  V20     984 non-null    float64\n",
            " 21  V21     984 non-null    float64\n",
            " 22  V22     984 non-null    float64\n",
            " 23  V23     984 non-null    float64\n",
            " 24  V24     984 non-null    float64\n",
            " 25  V25     984 non-null    float64\n",
            " 26  V26     984 non-null    float64\n",
            " 27  V27     984 non-null    float64\n",
            " 28  V28     984 non-null    float64\n",
            " 29  Amount  984 non-null    float64\n",
            " 30  Class   984 non-null    int64  \n",
            "dtypes: float64(30), int64(1)\n",
            "memory usage: 246.0 KB\n"
          ],
          "name": "stdout"
        }
      ]
    },
    {
      "cell_type": "code",
      "metadata": {
        "id": "fde6d694",
        "outputId": "911c05ee-aa20-4bfd-ec31-88e4d3a41095"
      },
      "source": [
        "new_dataset.isnull().sum()"
      ],
      "id": "fde6d694",
      "execution_count": null,
      "outputs": [
        {
          "output_type": "execute_result",
          "data": {
            "text/plain": [
              "Time      0\n",
              "V1        0\n",
              "V2        0\n",
              "V3        0\n",
              "V4        0\n",
              "V5        0\n",
              "V6        0\n",
              "V7        0\n",
              "V8        0\n",
              "V9        0\n",
              "V10       0\n",
              "V11       0\n",
              "V12       0\n",
              "V13       0\n",
              "V14       0\n",
              "V15       0\n",
              "V16       0\n",
              "V17       0\n",
              "V18       0\n",
              "V19       0\n",
              "V20       0\n",
              "V21       0\n",
              "V22       0\n",
              "V23       0\n",
              "V24       0\n",
              "V25       0\n",
              "V26       0\n",
              "V27       0\n",
              "V28       0\n",
              "Amount    0\n",
              "Class     0\n",
              "dtype: int64"
            ]
          },
          "metadata": {
            "tags": []
          },
          "execution_count": 17
        }
      ]
    },
    {
      "cell_type": "code",
      "metadata": {
        "id": "4186f9e6",
        "outputId": "69a77672-74f5-4868-93bb-a9998a8da053"
      },
      "source": [
        "print(legit_sample.shape)\n",
        "print(fraud.shape)"
      ],
      "id": "4186f9e6",
      "execution_count": null,
      "outputs": [
        {
          "output_type": "stream",
          "text": [
            "(492, 31)\n",
            "(492, 31)\n"
          ],
          "name": "stdout"
        }
      ]
    },
    {
      "cell_type": "code",
      "metadata": {
        "id": "09e96ec0",
        "outputId": "f98cf6a5-40ea-4720-8f0d-a6bab1eb408a"
      },
      "source": [
        "legit_sample.Amount.describe()"
      ],
      "id": "09e96ec0",
      "execution_count": null,
      "outputs": [
        {
          "output_type": "execute_result",
          "data": {
            "text/plain": [
              "count     492.000000\n",
              "mean       81.130772\n",
              "std       274.070186\n",
              "min         0.000000\n",
              "25%         4.490000\n",
              "50%        19.440000\n",
              "75%        65.360000\n",
              "max      3820.860000\n",
              "Name: Amount, dtype: float64"
            ]
          },
          "metadata": {
            "tags": []
          },
          "execution_count": 19
        }
      ]
    },
    {
      "cell_type": "code",
      "metadata": {
        "id": "0d62002d",
        "outputId": "d3b3a195-daf0-4546-afc2-aab09e5ba995"
      },
      "source": [
        "fraud.Amount.describe()"
      ],
      "id": "0d62002d",
      "execution_count": null,
      "outputs": [
        {
          "output_type": "execute_result",
          "data": {
            "text/plain": [
              "count     492.000000\n",
              "mean      122.211321\n",
              "std       256.683288\n",
              "min         0.000000\n",
              "25%         1.000000\n",
              "50%         9.250000\n",
              "75%       105.890000\n",
              "max      2125.870000\n",
              "Name: Amount, dtype: float64"
            ]
          },
          "metadata": {
            "tags": []
          },
          "execution_count": 20
        }
      ]
    },
    {
      "cell_type": "code",
      "metadata": {
        "id": "4b8dec29",
        "outputId": "613677b7-6166-4fcc-9acd-0ce99d327cf3"
      },
      "source": [
        "# compare the values for both transactions\n",
        "# for checking is it good or bad sample\n",
        "new_dataset.groupby('Class').mean()"
      ],
      "id": "4b8dec29",
      "execution_count": null,
      "outputs": [
        {
          "output_type": "execute_result",
          "data": {
            "text/html": [
              "<div>\n",
              "<style scoped>\n",
              "    .dataframe tbody tr th:only-of-type {\n",
              "        vertical-align: middle;\n",
              "    }\n",
              "\n",
              "    .dataframe tbody tr th {\n",
              "        vertical-align: top;\n",
              "    }\n",
              "\n",
              "    .dataframe thead th {\n",
              "        text-align: right;\n",
              "    }\n",
              "</style>\n",
              "<table border=\"1\" class=\"dataframe\">\n",
              "  <thead>\n",
              "    <tr style=\"text-align: right;\">\n",
              "      <th></th>\n",
              "      <th>Time</th>\n",
              "      <th>V1</th>\n",
              "      <th>V2</th>\n",
              "      <th>V3</th>\n",
              "      <th>V4</th>\n",
              "      <th>V5</th>\n",
              "      <th>V6</th>\n",
              "      <th>V7</th>\n",
              "      <th>V8</th>\n",
              "      <th>V9</th>\n",
              "      <th>...</th>\n",
              "      <th>V20</th>\n",
              "      <th>V21</th>\n",
              "      <th>V22</th>\n",
              "      <th>V23</th>\n",
              "      <th>V24</th>\n",
              "      <th>V25</th>\n",
              "      <th>V26</th>\n",
              "      <th>V27</th>\n",
              "      <th>V28</th>\n",
              "      <th>Amount</th>\n",
              "    </tr>\n",
              "    <tr>\n",
              "      <th>Class</th>\n",
              "      <th></th>\n",
              "      <th></th>\n",
              "      <th></th>\n",
              "      <th></th>\n",
              "      <th></th>\n",
              "      <th></th>\n",
              "      <th></th>\n",
              "      <th></th>\n",
              "      <th></th>\n",
              "      <th></th>\n",
              "      <th></th>\n",
              "      <th></th>\n",
              "      <th></th>\n",
              "      <th></th>\n",
              "      <th></th>\n",
              "      <th></th>\n",
              "      <th></th>\n",
              "      <th></th>\n",
              "      <th></th>\n",
              "      <th></th>\n",
              "      <th></th>\n",
              "    </tr>\n",
              "  </thead>\n",
              "  <tbody>\n",
              "    <tr>\n",
              "      <th>0</th>\n",
              "      <td>95007.597561</td>\n",
              "      <td>-0.045516</td>\n",
              "      <td>0.105375</td>\n",
              "      <td>-0.044312</td>\n",
              "      <td>0.089033</td>\n",
              "      <td>0.028585</td>\n",
              "      <td>-0.016951</td>\n",
              "      <td>0.001402</td>\n",
              "      <td>0.002579</td>\n",
              "      <td>0.070108</td>\n",
              "      <td>...</td>\n",
              "      <td>-0.021264</td>\n",
              "      <td>0.010393</td>\n",
              "      <td>0.045579</td>\n",
              "      <td>-0.013779</td>\n",
              "      <td>-0.004984</td>\n",
              "      <td>0.036128</td>\n",
              "      <td>0.020202</td>\n",
              "      <td>-0.023304</td>\n",
              "      <td>-0.014952</td>\n",
              "      <td>81.130772</td>\n",
              "    </tr>\n",
              "    <tr>\n",
              "      <th>1</th>\n",
              "      <td>80746.806911</td>\n",
              "      <td>-4.771948</td>\n",
              "      <td>3.623778</td>\n",
              "      <td>-7.033281</td>\n",
              "      <td>4.542029</td>\n",
              "      <td>-3.151225</td>\n",
              "      <td>-1.397737</td>\n",
              "      <td>-5.568731</td>\n",
              "      <td>0.570636</td>\n",
              "      <td>-2.581123</td>\n",
              "      <td>...</td>\n",
              "      <td>0.372319</td>\n",
              "      <td>0.713588</td>\n",
              "      <td>0.014049</td>\n",
              "      <td>-0.040308</td>\n",
              "      <td>-0.105130</td>\n",
              "      <td>0.041449</td>\n",
              "      <td>0.051648</td>\n",
              "      <td>0.170575</td>\n",
              "      <td>0.075667</td>\n",
              "      <td>122.211321</td>\n",
              "    </tr>\n",
              "  </tbody>\n",
              "</table>\n",
              "<p>2 rows × 30 columns</p>\n",
              "</div>"
            ],
            "text/plain": [
              "               Time        V1        V2        V3        V4        V5  \\\n",
              "Class                                                                   \n",
              "0      95007.597561 -0.045516  0.105375 -0.044312  0.089033  0.028585   \n",
              "1      80746.806911 -4.771948  3.623778 -7.033281  4.542029 -3.151225   \n",
              "\n",
              "             V6        V7        V8        V9  ...       V20       V21  \\\n",
              "Class                                          ...                       \n",
              "0     -0.016951  0.001402  0.002579  0.070108  ... -0.021264  0.010393   \n",
              "1     -1.397737 -5.568731  0.570636 -2.581123  ...  0.372319  0.713588   \n",
              "\n",
              "            V22       V23       V24       V25       V26       V27       V28  \\\n",
              "Class                                                                         \n",
              "0      0.045579 -0.013779 -0.004984  0.036128  0.020202 -0.023304 -0.014952   \n",
              "1      0.014049 -0.040308 -0.105130  0.041449  0.051648  0.170575  0.075667   \n",
              "\n",
              "           Amount  \n",
              "Class              \n",
              "0       81.130772  \n",
              "1      122.211321  \n",
              "\n",
              "[2 rows x 30 columns]"
            ]
          },
          "metadata": {
            "tags": []
          },
          "execution_count": 21
        }
      ]
    },
    {
      "cell_type": "markdown",
      "metadata": {
        "id": "de5b5332"
      },
      "source": [
        "# Splitting the data into Features & Targets"
      ],
      "id": "de5b5332"
    },
    {
      "cell_type": "code",
      "metadata": {
        "id": "b61b4f31"
      },
      "source": [
        "X = new_dataset.drop(columns='Class', axis = 1)\n",
        "Y = new_dataset['Class']"
      ],
      "id": "b61b4f31",
      "execution_count": null,
      "outputs": []
    },
    {
      "cell_type": "code",
      "metadata": {
        "id": "1ce60585",
        "outputId": "7f61c686-f61a-46cc-c8a2-e14d62eb2146"
      },
      "source": [
        "print(X)"
      ],
      "id": "1ce60585",
      "execution_count": null,
      "outputs": [
        {
          "output_type": "stream",
          "text": [
            "            Time        V1        V2        V3        V4        V5        V6  \\\n",
            "42862    41277.0 -1.074106  1.096363  2.079393  1.920161  0.531325 -0.606831   \n",
            "250998  155161.0  1.994310 -0.442934 -0.252742  0.472089 -0.788334 -0.519766   \n",
            "51951    45207.0  1.312591  0.077230 -1.292059 -0.483715  2.139937  3.181316   \n",
            "75068    55884.0  1.352265 -1.117900 -0.269259 -1.776264  0.731357  3.745376   \n",
            "221536  142601.0  2.037714  0.287805 -1.724395  0.536510  0.298728 -1.430321   \n",
            "...          ...       ...       ...       ...       ...       ...       ...   \n",
            "279863  169142.0 -1.927883  1.125653 -4.518331  1.749293 -1.566487 -2.010494   \n",
            "280143  169347.0  1.378559  1.289381 -5.004247  1.411850  0.442581 -1.326536   \n",
            "280149  169351.0 -0.676143  1.126366 -2.213700  0.468308 -1.120541 -0.003346   \n",
            "281144  169966.0 -3.113832  0.585864 -5.399730  1.817092 -0.840618 -2.943548   \n",
            "281674  170348.0  1.991976  0.158476 -2.583441  0.408670  1.151147 -0.096695   \n",
            "\n",
            "              V7        V8        V9  ...       V20       V21       V22  \\\n",
            "42862   0.717005  0.079836 -0.913854  ... -0.046630 -0.039540 -0.129027   \n",
            "250998 -0.640356 -0.061984  1.248797  ... -0.172926  0.154971  0.678710   \n",
            "51951  -0.505961  0.805039 -0.073990  ...  0.031329 -0.343094 -1.148139   \n",
            "75068  -1.861159  1.026008 -0.321680  ...  0.287750  0.400362  0.907622   \n",
            "221536  0.346533 -0.434105  0.420961  ... -0.129119  0.211597  0.835479   \n",
            "...          ...       ...       ...  ...       ...       ...       ...   \n",
            "279863 -0.882850  0.697211 -2.064945  ...  1.252967  0.778584 -0.319189   \n",
            "280143 -1.413170  0.248525 -1.127396  ...  0.226138  0.370612  0.028234   \n",
            "280149 -2.234739  1.210158 -0.652250  ...  0.247968  0.751826  0.834108   \n",
            "281144 -2.208002  1.058733 -1.632333  ...  0.306271  0.583276 -0.269209   \n",
            "281674  0.223050 -0.068384  0.577829  ... -0.017652 -0.164350 -0.295135   \n",
            "\n",
            "             V23       V24       V25       V26       V27       V28  Amount  \n",
            "42862  -0.288220  0.612561  0.604701 -0.026450  0.023577  0.095869   18.28  \n",
            "250998  0.142816 -0.046966 -0.256579  0.574817 -0.018438 -0.047456   11.50  \n",
            "51951   0.095887  0.946086  0.369966  0.110699 -0.021706  0.023518    1.29  \n",
            "75068  -0.143413  1.050973  0.466534 -0.030606  0.055346  0.031600   40.00  \n",
            "221536 -0.033215 -0.055894  0.272865 -0.102501  0.008093 -0.026110    8.99  \n",
            "...          ...       ...       ...       ...       ...       ...     ...  \n",
            "279863  0.639419 -0.294885  0.537503  0.788395  0.292680  0.147968  390.00  \n",
            "280143 -0.145640 -0.081049  0.521875  0.739467  0.389152  0.186637    0.76  \n",
            "280149  0.190944  0.032070 -0.739695  0.471111  0.385107  0.194361   77.89  \n",
            "281144 -0.456108 -0.183659 -0.328168  0.606116  0.884876 -0.253700  245.00  \n",
            "281674 -0.072173 -0.450261  0.313267 -0.289617  0.002988 -0.015309   42.53  \n",
            "\n",
            "[984 rows x 30 columns]\n"
          ],
          "name": "stdout"
        }
      ]
    },
    {
      "cell_type": "code",
      "metadata": {
        "id": "1750f487",
        "outputId": "f997b201-1379-49e0-e534-0124a0942b42"
      },
      "source": [
        "print(Y)"
      ],
      "id": "1750f487",
      "execution_count": null,
      "outputs": [
        {
          "output_type": "stream",
          "text": [
            "42862     0\n",
            "250998    0\n",
            "51951     0\n",
            "75068     0\n",
            "221536    0\n",
            "         ..\n",
            "279863    1\n",
            "280143    1\n",
            "280149    1\n",
            "281144    1\n",
            "281674    1\n",
            "Name: Class, Length: 984, dtype: int64\n"
          ],
          "name": "stdout"
        }
      ]
    },
    {
      "cell_type": "code",
      "metadata": {
        "id": "d0d7a2e4",
        "outputId": "e4bd21d2-2970-4bff-efc1-9c52e6735ac2"
      },
      "source": [
        "outlier_fraction = len(fraud)/float(len(legit_sample))\n",
        "print(outlier_fraction)"
      ],
      "id": "d0d7a2e4",
      "execution_count": null,
      "outputs": [
        {
          "output_type": "stream",
          "text": [
            "1.0\n"
          ],
          "name": "stdout"
        }
      ]
    },
    {
      "cell_type": "code",
      "metadata": {
        "id": "bed36663",
        "outputId": "e328c8fe-f7be-4acf-da33-0a3be857ddbb"
      },
      "source": [
        "# Data Standardization\n",
        "\n",
        "scaler = StandardScaler()\n",
        "scaler.fit(X)\n",
        "\n",
        "standardized_data = scaler.transform(X)\n",
        "\n",
        "print(standardized_data)\n",
        "\n",
        "X = standardized_data\n",
        "Y = new_dataset['Class']\n",
        "\n",
        "print(X)\n",
        "print(Y)\n",
        "\n",
        "#Splitting of data\n",
        "\n",
        "X_train, X_test, Y_train, Y_test = train_test_split(X, Y, test_size=0.2, stratify=Y, random_state=2)\n",
        "\n",
        "print(X.shape, X_train.shape, X_test.shape)"
      ],
      "id": "bed36663",
      "execution_count": null,
      "outputs": [
        {
          "output_type": "stream",
          "text": [
            "[[-0.96241891  0.24137338 -0.2093503  ... -0.04891128  0.15323993\n",
            "  -0.31344924]\n",
            " [ 1.38959052  0.79631074 -0.62883289 ... -0.08996376 -0.18201567\n",
            "  -0.33893382]\n",
            " [-0.88125389  0.67301877 -0.48707996 ... -0.09315735 -0.01599791\n",
            "  -0.37731104]\n",
            " ...\n",
            " [ 1.682652    0.3133469  -0.20117395 ...  0.3043356   0.38362857\n",
            "  -0.08938791]\n",
            " [ 1.6953534  -0.12752054 -0.34846925 ...  0.79265324 -0.66445126\n",
            "   0.5387431 ]\n",
            " [ 1.70324272  0.79588866 -0.4649393  ... -0.06902931 -0.10681986\n",
            "  -0.22229864]]\n",
            "[[-0.96241891  0.24137338 -0.2093503  ... -0.04891128  0.15323993\n",
            "  -0.31344924]\n",
            " [ 1.38959052  0.79631074 -0.62883289 ... -0.08996376 -0.18201567\n",
            "  -0.33893382]\n",
            " [-0.88125389  0.67301877 -0.48707996 ... -0.09315735 -0.01599791\n",
            "  -0.37731104]\n",
            " ...\n",
            " [ 1.682652    0.3133469  -0.20117395 ...  0.3043356   0.38362857\n",
            "  -0.08938791]\n",
            " [ 1.6953534  -0.12752054 -0.34846925 ...  0.79265324 -0.66445126\n",
            "   0.5387431 ]\n",
            " [ 1.70324272  0.79588866 -0.4649393  ... -0.06902931 -0.10681986\n",
            "  -0.22229864]]\n",
            "42862     0\n",
            "250998    0\n",
            "51951     0\n",
            "75068     0\n",
            "221536    0\n",
            "         ..\n",
            "279863    1\n",
            "280143    1\n",
            "280149    1\n",
            "281144    1\n",
            "281674    1\n",
            "Name: Class, Length: 984, dtype: int64\n",
            "(984, 30) (787, 30) (197, 30)\n"
          ],
          "name": "stdout"
        }
      ]
    },
    {
      "cell_type": "markdown",
      "metadata": {
        "id": "b654ac64"
      },
      "source": [
        "# Visulization "
      ],
      "id": "b654ac64"
    },
    {
      "cell_type": "code",
      "metadata": {
        "id": "c5903c8e",
        "outputId": "2de28f27-e27b-4377-fb46-a9221561c714"
      },
      "source": [
        "import matplotlib.pyplot as plt\n",
        "#Plot the Histogram of each parameter\n",
        "new_dataset.hist(figsize=(20,20))\n",
        "plt.show()"
      ],
      "id": "c5903c8e",
      "execution_count": null,
      "outputs": [
        {
          "output_type": "display_data",
          "data": {
            "image/png": "[encoded data removed]",
            "text/plain": [
              "<Figure size 1440x1440 with 36 Axes>"
            ]
          },
          "metadata": {
            "tags": [],
            "needs_background": "light"
          }
        }
      ]
    },
    {
      "cell_type": "code",
      "metadata": {
        "id": "df08c385",
        "outputId": "5285ce8d-140b-4185-b184-bf2f212f46d1"
      },
      "source": [
        "# Correlation Matrix\n",
        "import seaborn as sns\n",
        "corrmat = new_dataset.corr()\n",
        "fig = plt.figure(figsize=(12,9))\n",
        "\n",
        "sns.heatmap(corrmat, vmax= .8, square = True)\n",
        "plt.show()"
      ],
      "id": "df08c385",
      "execution_count": null,
      "outputs": [
        {
          "output_type": "display_data",
          "data": {
            "image/png": "[encoded data removed]",
            "text/plain": [
              "<Figure size 864x648 with 2 Axes>"
            ]
          },
          "metadata": {
            "tags": [],
            "needs_background": "light"
          }
        }
      ]
    },
    {
      "cell_type": "markdown",
      "metadata": {
        "id": "1a4c1633"
      },
      "source": [
        "# Model Training"
      ],
      "id": "1a4c1633"
    },
    {
      "cell_type": "markdown",
      "metadata": {
        "id": "bac3543e"
      },
      "source": [
        "# Logistic Regression"
      ],
      "id": "bac3543e"
    },
    {
      "cell_type": "code",
      "metadata": {
        "id": "24fac5c8"
      },
      "source": [
        "from sklearn.linear_model import LogisticRegression\n",
        "from sklearn.metrics import accuracy_score,confusion_matrix,classification_report\n",
        "from sklearn.model_selection import KFold\n",
        "import numpy as np\n",
        "from sklearn.model_selection import GridSearchCV\n",
        "import matplotlib.pyplot as plt\n",
        "import seaborn as sns"
      ],
      "id": "24fac5c8",
      "execution_count": null,
      "outputs": []
    },
    {
      "cell_type": "code",
      "metadata": {
        "id": "10f9bb59"
      },
      "source": [
        "log_class=LogisticRegression()\n",
        "grid={'C':10.0 **np.arange(-2,3), 'penalty':['l1','l2']}\n",
        "cv = KFold(n_splits = 5, random_state = None, shuffle=False)"
      ],
      "id": "10f9bb59",
      "execution_count": null,
      "outputs": []
    },
    {
      "cell_type": "code",
      "metadata": {
        "id": "07f8d3f8"
      },
      "source": [
        "from sklearn.model_selection import train_test_split\n",
        "X_train,X_test,Y_train,Y_test = train_test_split(X,Y,train_size = 0.75)"
      ],
      "id": "07f8d3f8",
      "execution_count": null,
      "outputs": []
    },
    {
      "cell_type": "code",
      "metadata": {
        "id": "cfff528a",
        "outputId": "769f92a9-df65-41fa-9b4a-c6046ca40ab5"
      },
      "source": [
        "clf = GridSearchCV(log_class, grid,cv=cv,n_jobs=-1,scoring='f1_macro')\n",
        "clf.fit(X_train,Y_train)"
      ],
      "id": "cfff528a",
      "execution_count": null,
      "outputs": [
        {
          "output_type": "stream",
          "text": [
            "C:\\Users\\Lavlesh\\anaconda3\\lib\\site-packages\\sklearn\\model_selection\\_search.py:918: UserWarning: One or more of the test scores are non-finite: [       nan 0.91252736        nan 0.93749388        nan 0.93756348\n",
            "        nan 0.94034414        nan 0.93898938]\n",
            "  warnings.warn(\n"
          ],
          "name": "stderr"
        },
        {
          "output_type": "execute_result",
          "data": {
            "text/plain": [
              "GridSearchCV(cv=KFold(n_splits=5, random_state=None, shuffle=False),\n",
              "             estimator=LogisticRegression(), n_jobs=-1,\n",
              "             param_grid={'C': array([1.e-02, 1.e-01, 1.e+00, 1.e+01, 1.e+02]),\n",
              "                         'penalty': ['l1', 'l2']},\n",
              "             scoring='f1_macro')"
            ]
          },
          "metadata": {
            "tags": []
          },
          "execution_count": 32
        }
      ]
    },
    {
      "cell_type": "code",
      "metadata": {
        "id": "ac2a3e05"
      },
      "source": [
        "Y_pred=clf.predict(X_test)"
      ],
      "id": "ac2a3e05",
      "execution_count": null,
      "outputs": []
    },
    {
      "cell_type": "code",
      "metadata": {
        "id": "ef15d37b",
        "outputId": "ba16b49c-0d12-460a-f970-5a94d057d968"
      },
      "source": [
        "# Confusion matrix\n",
        "\n",
        "cm=confusion_matrix(Y_test,Y_pred)\n",
        "conf_matrix=pd.DataFrame(data=cm,columns=['Predicted:0','Predicted:1'],index=['Actual:0','Actual:1'])\n",
        "plt.figure(figsize = (8,5))\n",
        "sns.heatmap(conf_matrix, annot=True,fmt='d',cmap=\"YlGnBu\");"
      ],
      "id": "ef15d37b",
      "execution_count": null,
      "outputs": [
        {
          "output_type": "display_data",
          "data": {
            "image/png": "[encoded data removed]",
            "text/plain": [
              "<Figure size 576x360 with 2 Axes>"
            ]
          },
          "metadata": {
            "tags": [],
            "needs_background": "light"
          }
        }
      ]
    },
    {
      "cell_type": "code",
      "metadata": {
        "id": "511b3511",
        "outputId": "da0f7f26-19b9-4574-d0ca-4558b213a5dc"
      },
      "source": [
        "#precision : False_Positive\n",
        "    #recall    : False_Negative\n",
        "    #f1-score  : Combination of Both\n",
        "\n",
        "print(accuracy_score(Y_test,Y_pred))"
      ],
      "id": "511b3511",
      "execution_count": null,
      "outputs": [
        {
          "output_type": "stream",
          "text": [
            "0.9390243902439024\n"
          ],
          "name": "stdout"
        }
      ]
    },
    {
      "cell_type": "code",
      "metadata": {
        "id": "acb8ecb6",
        "outputId": "00c6c9d7-4d1e-4c37-fe1b-196f0cfddbc3"
      },
      "source": [
        "print(classification_report(Y_test,Y_pred))"
      ],
      "id": "acb8ecb6",
      "execution_count": null,
      "outputs": [
        {
          "output_type": "stream",
          "text": [
            "              precision    recall  f1-score   support\n",
            "\n",
            "           0       0.89      1.00      0.94       119\n",
            "           1       1.00      0.88      0.94       127\n",
            "\n",
            "    accuracy                           0.94       246\n",
            "   macro avg       0.94      0.94      0.94       246\n",
            "weighted avg       0.95      0.94      0.94       246\n",
            "\n"
          ],
          "name": "stdout"
        }
      ]
    },
    {
      "cell_type": "markdown",
      "metadata": {
        "id": "927637f0"
      },
      "source": [
        "# RandomForestClassifier"
      ],
      "id": "927637f0"
    },
    {
      "cell_type": "code",
      "metadata": {
        "id": "7ac2b259",
        "outputId": "761610b9-6343-4122-876e-ea466ec6f558"
      },
      "source": [
        "from sklearn.ensemble import RandomForestClassifier\n",
        "classifier = RandomForestClassifier(criterion = 'gini', max_depth=10, min_samples_split=5, min_samples_leaf=1)\n",
        "classifier.fit(X_train,Y_train)"
      ],
      "id": "7ac2b259",
      "execution_count": null,
      "outputs": [
        {
          "output_type": "execute_result",
          "data": {
            "text/plain": [
              "RandomForestClassifier(max_depth=10, min_samples_split=5)"
            ]
          },
          "metadata": {
            "tags": []
          },
          "execution_count": 37
        }
      ]
    },
    {
      "cell_type": "code",
      "metadata": {
        "id": "59c47379"
      },
      "source": [
        "Y_pred = classifier.predict(X_test)"
      ],
      "id": "59c47379",
      "execution_count": null,
      "outputs": []
    },
    {
      "cell_type": "code",
      "metadata": {
        "id": "b984a602",
        "outputId": "0b67040c-fe1a-4e7d-b6b8-470e51927e32"
      },
      "source": [
        "# Confusion Matrix\n",
        "\n",
        "cm = confusion_matrix(Y_test, Y_pred)\n",
        "conf_matrix=pd.DataFrame(data=cm,columns=['Predicted:0','Predicted:1'],index=['Actual:0','Actual:1'])\n",
        "plt.figure(figsize = (8,5))\n",
        "sns.heatmap(conf_matrix, annot=True,fmt='d',cmap=\"YlGnBu\");"
      ],
      "id": "b984a602",
      "execution_count": null,
      "outputs": [
        {
          "output_type": "display_data",
          "data": {
            "image/png": "[encoded data removed]",
            "text/plain": [
              "<Figure size 576x360 with 2 Axes>"
            ]
          },
          "metadata": {
            "tags": [],
            "needs_background": "light"
          }
        }
      ]
    },
    {
      "cell_type": "code",
      "metadata": {
        "id": "62cd960d",
        "outputId": "a5fb0686-9c30-46b0-9170-edf705cd6e08"
      },
      "source": [
        "print(accuracy_score(Y_test,Y_pred))"
      ],
      "id": "62cd960d",
      "execution_count": null,
      "outputs": [
        {
          "output_type": "stream",
          "text": [
            "0.926829268292683\n"
          ],
          "name": "stdout"
        }
      ]
    },
    {
      "cell_type": "code",
      "metadata": {
        "id": "03eb5eb3",
        "outputId": "76bfd19f-cecb-42ed-de62-f7a1a2af31be"
      },
      "source": [
        "#precision : False_Positive\n",
        "    #recall    : False_Negative\n",
        "    #f1-score  : Combination of Both\n",
        "\n",
        "\n",
        "print(classification_report(Y_test,Y_pred))"
      ],
      "id": "03eb5eb3",
      "execution_count": null,
      "outputs": [
        {
          "output_type": "stream",
          "text": [
            "              precision    recall  f1-score   support\n",
            "\n",
            "           0       0.87      1.00      0.93       119\n",
            "           1       1.00      0.86      0.92       127\n",
            "\n",
            "    accuracy                           0.93       246\n",
            "   macro avg       0.93      0.93      0.93       246\n",
            "weighted avg       0.94      0.93      0.93       246\n",
            "\n"
          ],
          "name": "stdout"
        }
      ]
    },
    {
      "cell_type": "markdown",
      "metadata": {
        "id": "13efaabb"
      },
      "source": [
        "# CAT BOOST"
      ],
      "id": "13efaabb"
    },
    {
      "cell_type": "code",
      "metadata": {
        "id": "ba045d6b"
      },
      "source": [
        "# pip install catboost"
      ],
      "id": "ba045d6b",
      "execution_count": null,
      "outputs": []
    },
    {
      "cell_type": "code",
      "metadata": {
        "id": "7c46983c",
        "outputId": "91a03b13-12b1-41b3-c83c-99c56de7822c"
      },
      "source": [
        "#map categorical features\n",
        "credit_catboost_ready_df = new_dataset.dropna()\n",
        "\n",
        "features = [feat for feat in list(credit_catboost_ready_df) if feat != 'Class']\n",
        "print(features)\n",
        "card_categories = np.where(credit_catboost_ready_df[features].dtypes != np.float)[0]\n",
        "card_categories"
      ],
      "id": "7c46983c",
      "execution_count": null,
      "outputs": [
        {
          "output_type": "stream",
          "text": [
            "['Time', 'V1', 'V2', 'V3', 'V4', 'V5', 'V6', 'V7', 'V8', 'V9', 'V10', 'V11', 'V12', 'V13', 'V14', 'V15', 'V16', 'V17', 'V18', 'V19', 'V20', 'V21', 'V22', 'V23', 'V24', 'V25', 'V26', 'V27', 'V28', 'Amount']\n"
          ],
          "name": "stdout"
        },
        {
          "output_type": "execute_result",
          "data": {
            "text/plain": [
              "array([], dtype=int64)"
            ]
          },
          "metadata": {
            "tags": []
          },
          "execution_count": 43
        }
      ]
    },
    {
      "cell_type": "code",
      "metadata": {
        "colab": {
          "referenced_widgets": [
            "89c57ae9fe76493db4edd567dda50be4"
          ]
        },
        "id": "b59f33b9",
        "outputId": "36584f1f-b254-44eb-dfb5-d907a8d8efa9"
      },
      "source": [
        "SEED = 1234\n",
        "\n",
        "from catboost import CatBoostClassifier\n",
        "\n",
        "params = {\n",
        "            'iterations': 2000,\n",
        "            'learning_rate': 0.01,\n",
        "            'cat_features': card_categories,\n",
        "            'depth': 3,\n",
        "            'eval_metric': 'AUC',\n",
        "            'verbose': 200,\n",
        "            'od_type': 'Iter', # overfit detector\n",
        "            'od_wait': 500, # most recent best iteration to wait before stopping\n",
        "            'random_seed': SEED\n",
        "        }\n",
        "\n",
        "cat_model = CatBoostClassifier(**params)\n",
        "cat_model.fit(X_train, Y_train,\n",
        "             eval_set = (X_test, Y_test),\n",
        "             use_best_model= True, # True if we don't want to solve trees created after iteration with the best validation score\n",
        "             plot = True\n",
        "             );"
      ],
      "id": "b59f33b9",
      "execution_count": null,
      "outputs": [
        {
          "output_type": "display_data",
          "data": {
            "application/vnd.jupyter.widget-view+json": {
              "model_id": "89c57ae9fe76493db4edd567dda50be4",
              "version_major": 2,
              "version_minor": 0
            },
            "text/plain": [
              "MetricVisualizer(layout=Layout(align_self='stretch', height='500px'))"
            ]
          },
          "metadata": {
            "tags": []
          }
        },
        {
          "output_type": "stream",
          "text": [
            "0:\ttest: 0.9383974\tbest: 0.9383974 (0)\ttotal: 153ms\tremaining: 5m 5s\n",
            "200:\ttest: 0.9769073\tbest: 0.9769073 (200)\ttotal: 1.99s\tremaining: 17.8s\n",
            "400:\ttest: 0.9805465\tbest: 0.9806789 (386)\ttotal: 3.13s\tremaining: 12.5s\n",
            "600:\ttest: 0.9810759\tbest: 0.9815391 (523)\ttotal: 4.3s\tremaining: 10s\n",
            "800:\ttest: 0.9810759\tbest: 0.9816714 (667)\ttotal: 5.48s\tremaining: 8.21s\n",
            "1000:\ttest: 0.9798187\tbest: 0.9816714 (667)\ttotal: 6.82s\tremaining: 6.81s\n",
            "Stopped by overfitting detector  (500 iterations wait)\n",
            "\n",
            "bestTest = 0.9816714087\n",
            "bestIteration = 667\n",
            "\n",
            "Shrink model to first 668 iterations.\n"
          ],
          "name": "stdout"
        }
      ]
    },
    {
      "cell_type": "code",
      "metadata": {
        "id": "7a16a400"
      },
      "source": [
        "y_pred = cat_model.predict(X_test)"
      ],
      "id": "7a16a400",
      "execution_count": null,
      "outputs": []
    },
    {
      "cell_type": "code",
      "metadata": {
        "id": "d805305b",
        "outputId": "b05c0164-c6d0-426f-d552-5e99f465ecef"
      },
      "source": [
        "# Confusion Matrix\n",
        "\n",
        "cm = confusion_matrix(Y_test, y_pred)\n",
        "conf_matrix=pd.DataFrame(data=cm,columns=['Predicted:0','Predicted:1'],index=['Actual:0','Actual:1'])\n",
        "plt.figure(figsize = (8,5))\n",
        "sns.heatmap(conf_matrix, annot=True,fmt='d',cmap=\"YlGnBu\");"
      ],
      "id": "d805305b",
      "execution_count": null,
      "outputs": [
        {
          "output_type": "display_data",
          "data": {
            "image/png": "[encoded data removed]",
            "text/plain": [
              "<Figure size 576x360 with 2 Axes>"
            ]
          },
          "metadata": {
            "tags": [],
            "needs_background": "light"
          }
        }
      ]
    },
    {
      "cell_type": "code",
      "metadata": {
        "id": "d33406da",
        "outputId": "21e03af2-5511-40c9-eab2-2c4c3bb30504"
      },
      "source": [
        "print(classification_report(Y_test,y_pred))"
      ],
      "id": "d33406da",
      "execution_count": null,
      "outputs": [
        {
          "output_type": "stream",
          "text": [
            "              precision    recall  f1-score   support\n",
            "\n",
            "           0       0.87      1.00      0.93       119\n",
            "           1       1.00      0.86      0.92       127\n",
            "\n",
            "    accuracy                           0.93       246\n",
            "   macro avg       0.93      0.93      0.93       246\n",
            "weighted avg       0.94      0.93      0.93       246\n",
            "\n"
          ],
          "name": "stdout"
        }
      ]
    },
    {
      "cell_type": "markdown",
      "metadata": {
        "id": "b87f5d76"
      },
      "source": [
        "# Making Predictive System"
      ],
      "id": "b87f5d76"
    },
    {
      "cell_type": "code",
      "metadata": {
        "id": "e0d2f2f7",
        "outputId": "40fd0167-1c27-4374-d025-bee7b758f743"
      },
      "source": [
        "from sklearn.preprocessing import StandardScaler\n",
        "\n",
        "# Making Predictive System\n",
        "\n",
        "input_data = (7351,-0.89429117128008,0.201823151075358,0.82055395947754,1.59422667830721,-0.126009429532425,-0.0768021842201572,0.323810905168392,-0.457621185859625,2.04590746305326,0.686281297706687,0.450803761969176,-3.61287869162481,-0.0589171005131909,1.48463210047471,1.16594348846158,-0.369946984084583,0.620335387342575,0.409903954277939,-0.127096753874042,-0.745508611944502,0.0538737279554308,0.961447463923887,0.4988788416289,-0.00252224593734589,-1.1112947683224,-0.385686863446657,-0.691469824330681,0.0475574382679638,64.9)\n",
        "\n",
        "#input_data = (7543,0.329594333318222,3.71288929524103,-5.77593510831666,6.07826550560828,1.66735901311948,-2.42016841351562,-0.812891249491333,0.133080117970748,-2.21431131204961,-5.13445447110633,4.56072010550223,-8.87374836164535,-0.797483599628474,-9.17716637009146,-0.25702477514424,-0.871688490451564,1.31301362907797,0.773913872552923,-2.37059945059811,0.269772775978284,0.156617169389793,-0.652450440932299,-0.551572219392364,-0.716521635357197,1.41571661508922,0.555264739787582,0.530507388890912,0.404474054528712,1)\n",
        "    \n",
        "# Changing the input data to numpy array\n",
        "\n",
        "input_data_as_numpy_array = np.asarray(input_data)\n",
        "\n",
        "# reshape the array as we are predicting the one isinstance\n",
        "\n",
        "input_data_reshaped = input_data_as_numpy_array.reshape(1,-1)\n",
        "\n",
        "# standardize the input data\n",
        "\n",
        "std_data = scaler.transform(input_data_reshaped)\n",
        "\n",
        "print(std_data)\n",
        "\n",
        "prediction = clf.predict(std_data) # Prediction with the Logistic Regression\n",
        "\n",
        "#prediction = classifier.predict(std_data) # Prediction with the RandomForest\n",
        "\n",
        "print(prediction)\n",
        "\n",
        "if (prediction[0] == 0):\n",
        "    print('Legit Transaction')\n",
        "else:\n",
        "    print('Fraud Transaction')"
      ],
      "id": "e0d2f2f7",
      "execution_count": null,
      "outputs": [
        {
          "output_type": "stream",
          "text": [
            "[[-1.66308162e+00  2.73893724e-01 -4.53126485e-01  7.02593135e-01\n",
            "  -2.27576667e-01  3.39954434e-01  3.60598970e-01  5.29752235e-01\n",
            "  -1.52197069e-01  1.41418034e+00  7.82048692e-01 -5.16213037e-01\n",
            "  -1.06752509e-01  5.37775157e-04  1.05595036e+00  1.26352901e+00\n",
            "   4.76746919e-01  6.60626955e-01  6.40963249e-01 -3.62822123e-01\n",
            "  -8.10634725e-01 -1.09850354e-01  7.98266628e-01  4.36143870e-01\n",
            "   9.65852837e-02 -1.73250399e+00 -8.67555879e-01 -7.47575636e-01\n",
            "   4.02331818e-02 -1.38214558e-01]]\n",
            "[0]\n",
            "Legit Transaction\n"
          ],
          "name": "stdout"
        }
      ]
    },
    {
      "cell_type": "code",
      "metadata": {
        "id": "3223c27c"
      },
      "source": [
        ""
      ],
      "id": "3223c27c",
      "execution_count": null,
      "outputs": []
    }
  ]
}